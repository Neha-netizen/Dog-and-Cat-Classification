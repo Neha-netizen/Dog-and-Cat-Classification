{
 "cells": [
  {
   "cell_type": "code",
   "execution_count": 2,
   "metadata": {},
   "outputs": [],
   "source": [
    "from tkinter import *\n",
    "from PIL import ImageTk, Image  \n",
    "from tkinter import filedialog \n",
    "from playsound import playsound"
   ]
  },
  {
   "cell_type": "code",
   "execution_count": 3,
   "metadata": {},
   "outputs": [
    {
     "name": "stderr",
     "output_type": "stream",
     "text": [
      "Using TensorFlow backend.\n"
     ]
    }
   ],
   "source": [
    "from  keras.models import load_model\n",
    "import tensorflow as tf\n",
    "def open_img(): \n",
    "    # Select the Imagename  from a folder  \n",
    "    x=filedialog.askopenfilename()\n",
    "  \n",
    "    # opens the image \n",
    "    img = Image.open(x) \n",
    "      \n",
    "    # resize the image and apply a high-quality down sampling filter \n",
    "    img = img.resize((250, 250), Image.ANTIALIAS) \n",
    "  \n",
    "    # PhotoImage class is used to add image to widgets, icons etc \n",
    "    img = ImageTk.PhotoImage(img) \n",
    "   \n",
    "    # create a label \n",
    "    panel = Label(root, image = img) \n",
    "      \n",
    "    # set the image as img  \n",
    "    panel.image = img \n",
    "    panel.grid(row = 2)\n",
    "    \n",
    "    \n",
    "    panel1=Label(root, text=\"It is a \"+prediction(x))\n",
    "    panel1.grid(row=3)\n",
    "\n",
    "    \n",
    "    \n",
    "def prediction(x):\n",
    "    cnn=tf.keras.models.load_model(\"model.h5\")\n",
    "    import numpy as np\n",
    "    from keras.preprocessing import image\n",
    "    test_image = image.load_img(x, target_size = (64, 64))\n",
    "    test_image = image.img_to_array(test_image)\n",
    "    test_image = np.expand_dims(test_image, axis = 0)\n",
    "    result = cnn.predict(test_image)\n",
    "    if result[0][0] == 1:\n",
    "        predict = 'dog'\n",
    "        playsound('dog_pronunciation.wav')\n",
    "    else:\n",
    "        predict = 'cat'\n",
    "        playsound('cat_pronunciation.wav')\n",
    "    return predict"
   ]
  },
  {
   "cell_type": "code",
   "execution_count": 6,
   "metadata": {},
   "outputs": [],
   "source": [
    "# Create a windoe \n",
    "root = Tk() \n",
    "  \n",
    "# Set Title as Image Loader \n",
    "root.title(\"Image Classifier\") \n",
    "  \n",
    "# Set the resolution of window \n",
    "root.geometry(\"550x300\") \n",
    "  \n",
    "# Allow Window to be resizable \n",
    "root.resizable(width = True, height = True) \n",
    "  \n",
    "# Create a button and place it into the window using grid layout \n",
    "btn = Button(root, text ='open image', command = open_img).grid( \n",
    "                                        row = 1, columnspan = 4) \n",
    "\n",
    "\n",
    "\n",
    "\n",
    "\n",
    "root.mainloop() "
   ]
  },
  {
   "cell_type": "code",
   "execution_count": 21,
   "metadata": {},
   "outputs": [],
   "source": []
  },
  {
   "cell_type": "code",
   "execution_count": null,
   "metadata": {},
   "outputs": [],
   "source": []
  }
 ],
 "metadata": {
  "kernelspec": {
   "display_name": "Python 3",
   "language": "python",
   "name": "python3"
  },
  "language_info": {
   "codemirror_mode": {
    "name": "ipython",
    "version": 3
   },
   "file_extension": ".py",
   "mimetype": "text/x-python",
   "name": "python",
   "nbconvert_exporter": "python",
   "pygments_lexer": "ipython3",
   "version": "3.7.6"
  }
 },
 "nbformat": 4,
 "nbformat_minor": 4
}
